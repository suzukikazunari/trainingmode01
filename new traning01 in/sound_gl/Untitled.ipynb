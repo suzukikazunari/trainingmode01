{
 "cells": [
  {
   "cell_type": "code",
   "execution_count": 13,
   "id": "8eb61398-70e0-4e26-b597-d3481a063dc8",
   "metadata": {},
   "outputs": [
    {
     "name": "stdout",
     "output_type": "stream",
     "text": [
      "Collecting pytube\n",
      "  Downloading pytube-15.0.0-py3-none-any.whl (57 kB)\n",
      "     ---------------------------------------- 0.0/57.6 kB ? eta -:--:--\n",
      "     ---------------------------- ----------- 41.0/57.6 kB 1.9 MB/s eta 0:00:01\n",
      "     ---------------------------- ----------- 41.0/57.6 kB 1.9 MB/s eta 0:00:01\n",
      "     ---------------------------- ----------- 41.0/57.6 kB 1.9 MB/s eta 0:00:01\n",
      "     ---------------------------- ----------- 41.0/57.6 kB 1.9 MB/s eta 0:00:01\n",
      "     --------------------------------- ---- 51.2/57.6 kB 187.0 kB/s eta 0:00:01\n",
      "     -------------------------------------- 57.6/57.6 kB 189.4 kB/s eta 0:00:00\n",
      "Installing collected packages: pytube\n",
      "Successfully installed pytube-15.0.0\n",
      "Note: you may need to restart the kernel to use updated packages.\n"
     ]
    },
    {
     "name": "stderr",
     "output_type": "stream",
     "text": [
      "WARNING: Ignoring invalid distribution -atplotlib (c:\\users\\user\\anaconda3\\lib\\site-packages)\n",
      "WARNING: Ignoring invalid distribution -atplotlib (c:\\users\\user\\anaconda3\\lib\\site-packages)\n",
      "WARNING: Ignoring invalid distribution -atplotlib (c:\\users\\user\\anaconda3\\lib\\site-packages)\n",
      "WARNING: Ignoring invalid distribution -atplotlib (c:\\users\\user\\anaconda3\\lib\\site-packages)\n",
      "WARNING: Ignoring invalid distribution -atplotlib (c:\\users\\user\\anaconda3\\lib\\site-packages)\n",
      "WARNING: Ignoring invalid distribution -atplotlib (c:\\users\\user\\anaconda3\\lib\\site-packages)\n",
      "WARNING: Ignoring invalid distribution -atplotlib (c:\\users\\user\\anaconda3\\lib\\site-packages)\n"
     ]
    }
   ],
   "source": [
    "pip install pytube"
   ]
  },
  {
   "cell_type": "code",
   "execution_count": 18,
   "id": "15c2e600-7d28-43aa-88e8-a7a0aa98b361",
   "metadata": {},
   "outputs": [
    {
     "name": "stdin",
     "output_type": "stream",
     "text": [
      "url: https://www.youtube.com/watch?v=H-2-TRL5sLQ\n"
     ]
    },
    {
     "ename": "NameError",
     "evalue": "name 'PythonScripts' is not defined",
     "output_type": "error",
     "traceback": [
      "\u001b[1;31m---------------------------------------------------------------------------\u001b[0m",
      "\u001b[1;31mNameError\u001b[0m                                 Traceback (most recent call last)",
      "Cell \u001b[1;32mIn[18], line 6\u001b[0m\n\u001b[0;32m      1\u001b[0m \u001b[38;5;28;01mimport\u001b[39;00m \u001b[38;5;21;01mpytube\u001b[39;00m\n\u001b[0;32m      3\u001b[0m url \u001b[38;5;241m=\u001b[39m \u001b[38;5;28minput\u001b[39m(\u001b[38;5;124m\"\u001b[39m\u001b[38;5;124murl:\u001b[39m\u001b[38;5;124m\"\u001b[39m)\n\u001b[1;32m----> 6\u001b[0m youtube \u001b[38;5;241m=\u001b[39m pytube\u001b[38;5;241m.\u001b[39mYouTube(url)\u001b[38;5;241m.\u001b[39mstreams\u001b[38;5;241m.\u001b[39mfirst()\u001b[38;5;241m.\u001b[39mdownload(\u001b[43mPythonScripts\u001b[49m)\n",
      "\u001b[1;31mNameError\u001b[0m: name 'PythonScripts' is not defined"
     ]
    }
   ],
   "source": [
    "import pytube\n",
    "\n",
    "url = input(\"url:\")\n",
    "\n",
    "\n",
    "youtube = pytube.YouTube(url).streams.first().download(PythonScripts)\n",
    "\n"
   ]
  },
  {
   "cell_type": "code",
   "execution_count": null,
   "id": "7c1c32de-1d1a-4ede-af17-c903293532e5",
   "metadata": {},
   "outputs": [],
   "source": []
  }
 ],
 "metadata": {
  "kernelspec": {
   "display_name": "Python 3 (ipykernel)",
   "language": "python",
   "name": "python3"
  },
  "language_info": {
   "codemirror_mode": {
    "name": "ipython",
    "version": 3
   },
   "file_extension": ".py",
   "mimetype": "text/x-python",
   "name": "python",
   "nbconvert_exporter": "python",
   "pygments_lexer": "ipython3",
   "version": "3.9.16"
  }
 },
 "nbformat": 4,
 "nbformat_minor": 5
}
